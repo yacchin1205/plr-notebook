{
 "cells": [
  {
   "cell_type": "markdown",
   "id": "11348dc8-6f20-403a-b612-c0f53b5a932c",
   "metadata": {},
   "source": [
    "# PersonaryデータをExcelで取得する例\n",
    "\n",
    "Personaryに格納されているデータをExcelファイルとして取得するためのNotebookです。\n",
    "\n",
    "事前に、 `00_PLR初期設定.ipynb` を実施している想定です。"
   ]
  },
  {
   "cell_type": "markdown",
   "id": "f5465c3f-63b3-4bef-8772-28d7ac679322",
   "metadata": {},
   "source": [
    "# 取得対象の決定\n",
    "\n",
    "Personaryに格納されているデータを特定するため、以下の情報を設定してください。"
   ]
  },
  {
   "cell_type": "code",
   "execution_count": null,
   "id": "35bb7ec3-1b44-4bcc-9a7a-22fd9feb38a5",
   "metadata": {},
   "outputs": [],
   "source": [
    "from datetime import datetime, timedelta\n",
    "\n",
    "# チャネル名(変更不要)\n",
    "channel_name = 'cog-pds-log'\n",
    "\n",
    "# データ取得開始\n",
    "# 1日前から取得する場合\n",
    "since = datetime.now() - timedelta(days=1)\n",
    "# 日付指定\n",
    "# since = '2025-06-15'\n",
    "# 日付指定なし\n",
    "# since = None\n",
    "\n",
    "# データ取得終了\n",
    "# sinceと同様に相対時間、日付指定で指定可能\n",
    "until = None\n",
    "\n",
    "# タスクのURL(データ特定用)\n",
    "task_url = 'https://goemon.cloud/t/uOY1fQp0yzK6zGQEdS5q'"
   ]
  },
  {
   "cell_type": "markdown",
   "id": "c36d9fd8-aab6-4db5-93ee-0534549b3b2a",
   "metadata": {},
   "source": [
    "まず、チャネルリストを取得..."
   ]
  },
  {
   "cell_type": "code",
   "execution_count": null,
   "id": "32b1a538-aa01-4295-97d9-7e5dfc2945c5",
   "metadata": {
    "scrolled": true
   },
   "outputs": [],
   "source": [
    "# JSONLデータの処理には、Pandasというライブラリを使うのが便利\n",
    "import pandas as pd\n",
    "\n",
    "# このセルを実行後、 ←のファイル一覧に、channels.jsonlが見えるはず...\n",
    "!source ~/.plrprofile && plrget list -o channels.jsonl\n",
    "\n",
    "channels = pd.read_json('channels.jsonl', orient='records', lines=True)\n",
    "channels"
   ]
  },
  {
   "cell_type": "markdown",
   "id": "872645e6-7fb7-4ef5-9d75-60c68165bc18",
   "metadata": {},
   "source": [
    "指定されたチャネルが存在しているかのチェック(ないとエラーになります)"
   ]
  },
  {
   "cell_type": "code",
   "execution_count": null,
   "id": "135dc2c9-85fc-495e-9c7e-e910970997d9",
   "metadata": {},
   "outputs": [],
   "source": [
    "assert len(channels[channels['absoluteName'] == channel_name]) > 0, f'No channels named \"{channel_name}\"'"
   ]
  },
  {
   "cell_type": "markdown",
   "id": "8c1c9a84-3554-4320-ae2b-acd9385c05c1",
   "metadata": {},
   "source": [
    "`plrget` コマンドにより、チャネルに格納されているデータを取得します。"
   ]
  },
  {
   "cell_type": "code",
   "execution_count": null,
   "id": "da44510d-2fbe-4808-9918-c7066687adb1",
   "metadata": {},
   "outputs": [],
   "source": [
    "def datetime_to_str(dt):\n",
    "    \"\"\"datetimeオブジェクトを文字列に変換\"\"\"\n",
    "    if isinstance(dt, str):\n",
    "        return dt\n",
    "    if isinstance(dt, datetime):\n",
    "        return dt.strftime('%Y-%m-%dT%H:%M:%S')\n",
    "    # わからない型の場合はそのまま返す\n",
    "    return dt\n",
    "\n",
    "# チャネルのIDを取得\n",
    "channel_id = channels[channels['absoluteName'] == channel_name]['id'].values[0]\n",
    "\n",
    "# チャネルを指定して`plrget`コマンドを実行\n",
    "options = ''\n",
    "if since is not None:\n",
    "    s_since = datetime_to_str(since)\n",
    "    options += f' --since {s_since}'\n",
    "if until is not None:\n",
    "    s_until = datetime_to_str(until)\n",
    "    options += f' --until {s_until}'\n",
    "!source ~/.plrprofile && plrget list {options} {channel_id} -o data.jsonl\n",
    "\n",
    "data = pd.read_json('data.jsonl', orient='records', lines=True)\n",
    "data"
   ]
  },
  {
   "cell_type": "markdown",
   "id": "8a7855ec-a2a5-4208-8a3e-a39f14508ebc",
   "metadata": {},
   "source": [
    "指定されたタスクの情報を抽出します。"
   ]
  },
  {
   "cell_type": "code",
   "execution_count": null,
   "id": "0f7f2699-27a6-4697-930f-7b298329ad47",
   "metadata": {},
   "outputs": [],
   "source": [
    "import json\n",
    "\n",
    "assert task_url.startswith('https://goemon.cloud/t/'), 'task_urlは https://goemon.cloud/t/ から始まる必要があります'\n",
    "target_task_id = task_url[len('https://goemon.cloud/t/'):]\n",
    "print('Task ID', target_task_id)\n",
    "\n",
    "def is_target_task(cog_pds_json):\n",
    "    meta = cog_pds_json['meta']\n",
    "    task_id = meta['task']['id']\n",
    "    return task_id == target_task_id\n",
    "\n",
    "target_data = data[data['cogPDSJSON'].apply(lambda x: is_target_task(json.loads(x)))]\n",
    "target_data"
   ]
  },
  {
   "cell_type": "code",
   "execution_count": null,
   "id": "e9a47d32-c455-4abe-8468-f9a1f3c60b51",
   "metadata": {},
   "outputs": [],
   "source": [
    "target_data['cogPDSJSON'].values[0]"
   ]
  },
  {
   "cell_type": "code",
   "execution_count": null,
   "id": "18857d97-1263-4a2a-9fa0-3b86dd02385f",
   "metadata": {},
   "outputs": [],
   "source": [
    "import json\n",
    "import pandas as pd\n",
    "\n",
    "all_dfs = []\n",
    "\n",
    "for idx, row in target_data.iterrows():\n",
    "    try:\n",
    "        raw_json = row[\"cogPDSJSON\"]\n",
    "        jspsych_data = json.loads(raw_json)\n",
    "    except json.JSONDecodeError:\n",
    "        jspsych_data = json.loads(eval(raw_json))\n",
    "\n",
    "    trials = jspsych_data.get(\"data\", {}).get(\"data\", [])\n",
    "    meta = jspsych_data.get(\"meta\", {})\n",
    "\n",
    "    df = pd.DataFrame(trials)\n",
    "\n",
    "    # メタ情報を付加\n",
    "    df[\"participant_id\"] = row['cogPDSUser']\n",
    "    df[\"task_title\"] = meta.get(\"task\", {}).get(\"title\", \"unknown\")\n",
    "    df[\"task_started\"] = meta.get(\"started\")\n",
    "    df[\"task_finished\"] = meta.get(\"finished\")\n",
    "\n",
    "    all_dfs.append(df)\n",
    "\n",
    "# すべての行を結合\n",
    "result_df = pd.concat(all_dfs, ignore_index=True)\n",
    "\n",
    "# 欲しい順序でカラムを並べる\n",
    "first_columns = [\n",
    "    \"participant_id\",\n",
    "    \"task_title\",\n",
    "    \"task_started\",\n",
    "    \"task_finished\",\n",
    "    \"trial_type\",\n",
    "    \"time_elapsed\",\n",
    "    \"rt\",\n",
    "    \"stimulus\"\n",
    "]\n",
    "\n",
    "# 存在しないカラムがある場合でも落ちないようにする\n",
    "first_columns = [col for col in first_columns if col in result_df.columns]\n",
    "\n",
    "# 残りのカラムを取得（重複排除）\n",
    "other_columns = [col for col in result_df.columns if col not in first_columns]\n",
    "\n",
    "# カラム順を設定\n",
    "ordered_columns = first_columns + other_columns\n",
    "result_df = result_df[ordered_columns]\n",
    "\n",
    "# Excelに保存\n",
    "result_df"
   ]
  },
  {
   "cell_type": "code",
   "execution_count": null,
   "id": "d3117e64-021a-485c-863f-83e9ddd7d938",
   "metadata": {},
   "outputs": [],
   "source": [
    "result_df.to_excel('data.xlsx')"
   ]
  },
  {
   "cell_type": "code",
   "execution_count": null,
   "id": "47767329-89d6-4471-a160-cdde24ae8a6b",
   "metadata": {},
   "outputs": [],
   "source": []
  }
 ],
 "metadata": {
  "kernelspec": {
   "display_name": "Python 3 (ipykernel)",
   "language": "python",
   "name": "python3"
  },
  "language_info": {
   "codemirror_mode": {
    "name": "ipython",
    "version": 3
   },
   "file_extension": ".py",
   "mimetype": "text/x-python",
   "name": "python",
   "nbconvert_exporter": "python",
   "pygments_lexer": "ipython3",
   "version": "3.12.11"
  }
 },
 "nbformat": 4,
 "nbformat_minor": 5
}
