{
 "cells": [
  {
   "cell_type": "markdown",
   "id": "special-virginia",
   "metadata": {},
   "source": [
    "# PLR初期設定\n",
    "\n",
    "PLRのアイテムをJupyter Notebookで処理するためには、本NotebookにしたがってPLR初期設定を実施する必要があります。"
   ]
  },
  {
   "cell_type": "markdown",
   "id": "median-publisher",
   "metadata": {},
   "source": [
    "# PLRバイナリのインストール\n",
    "\n",
    "本環境では、PLR CUIバイナリをPLRへのアクセスに使用します。これは公開されていないので、別に共有されたものを **このNotebookと同じディレクトリ** に配置してください。"
   ]
  },
  {
   "cell_type": "code",
   "execution_count": 1,
   "id": "defensive-special",
   "metadata": {},
   "outputs": [],
   "source": [
    "!mkdir -p ~/.groovy\n",
    "!ln -s /opt/plrfs/lib ~/.groovy/lib"
   ]
  },
  {
   "cell_type": "markdown",
   "id": "narrative-working",
   "metadata": {},
   "source": [
    "# PLRアカウントの初期設定"
   ]
  },
  {
   "cell_type": "markdown",
   "id": "interim-snake",
   "metadata": {},
   "source": [
    "以下のCellを1つ1つ実行する。"
   ]
  },
  {
   "cell_type": "code",
   "execution_count": 2,
   "id": "superb-poetry",
   "metadata": {},
   "outputs": [],
   "source": [
    "import pexpect\n",
    "\n",
    "plrcommand = 'plr'\n",
    "plrcui = pexpect.spawn(plrcommand + \" storage new googleDrive\")"
   ]
  },
  {
   "cell_type": "markdown",
   "id": "australian-albany",
   "metadata": {},
   "source": [
    "以下のセルを実行すると、URLが表示されるので、ブラウザで開く。ブラウザでGoogle認証を行うと、http://localhost:40385/... というURLが表示されるので、これを入力欄に貼り付ける。(ブラウザ画面にはエラーが表示されるが問題ない)"
   ]
  },
  {
   "cell_type": "code",
   "execution_count": 3,
   "id": "suburban-array",
   "metadata": {
    "scrolled": true
   },
   "outputs": [
    {
     "name": "stdout",
     "output_type": "stream",
     "text": [
      "https://accounts.google.com/o/oauth2/auth?access_type=offline&approval_prompt=force&client_id=1001437678350-inrbi6862etroo8kdhshvm24hkuguta6.apps.googleusercontent.com&redirect_uri=http://localhost:39279/Callback&response_type=code&scope=https://www.googleapis.com/auth/drive\n",
      "このセルの出力に表示されるURLをクリックし、Googleアカウントで認証を行い、ブラウザに表示されたURLを貼り付けてください。http://localhost:39279/Callback?code=4/0AY0e-g4kMqq0HOUkJ3yBz4R_jBb7cNqKH8gMqndTMocbf_Xtv1g3jhaaIStmDf0ZxoUrkA&scope=https://www.googleapis.com/auth/drive\n",
      "Note: Unnecessary use of -X or --request, GET is already inferred.\n",
      "*   Trying 127.0.0.1:39279...\n",
      "* TCP_NODELAY set\n",
      "* Connected to localhost (127.0.0.1) port 39279 (#0)\n",
      "> GET /Callback?code=4/0AY0e-g4kMqq0HOUkJ3yBz4R_jBb7cNqKH8gMqndTMocbf_Xtv1g3jhaaIStmDf0ZxoUrkA&scope=https://www.googleapis.com/auth/drive HTTP/1.1\n",
      "> Host: localhost:39279\n",
      "> User-Agent: curl/7.68.0\n",
      "> Accept: */*\n",
      "> \n",
      "* Mark bundle as not supporting multiuse\n",
      "< HTTP/1.1 200 OK\n",
      "< Date: Mon, 07 Jun 2021 22:21:00 GMT\n",
      "< Transfer-encoding: chunked\n",
      "< \n",
      "<html>\n",
      "<head><title>OAuth 2.0 Authentication Token Received</title></head>\n",
      "<body>\n",
      "Received verification code. You may now close this window.\n",
      "</body>\n",
      "</html>\n",
      "* Connection #0 to host localhost left intact\n"
     ]
    }
   ],
   "source": [
    "plrcui.expect(r'\\s+https://accounts.google.com/.*')\n",
    "print(plrcui.after.decode('utf8').strip())\n",
    "\n",
    "callback_url = input('このセルの出力に表示されるURLをクリックし、Googleアカウントで認証を行い、ブラウザに表示されたURLを貼り付けてください。')\n",
    "!curl -v -X GET \"{callback_url}\""
   ]
  },
  {
   "cell_type": "markdown",
   "id": "indirect-eating",
   "metadata": {},
   "source": [
    "PLRのパスフレーズを入力する。Personary設定時に指定したパスワードを以下に指定する。"
   ]
  },
  {
   "cell_type": "code",
   "execution_count": 4,
   "id": "southwest-police",
   "metadata": {},
   "outputs": [
    {
     "name": "stdout",
     "output_type": "stream",
     "text": [
      "········\n"
     ]
    },
    {
     "data": {
      "text/plain": [
       "'1'"
      ]
     },
     "execution_count": 4,
     "metadata": {},
     "output_type": "execute_result"
    }
   ],
   "source": [
    "import re\n",
    "from getpass import getpass\n",
    "\n",
    "passphrase = getpass()\n",
    "plrcui.expect('Enter passphrase:')\n",
    "storage_id = [re.match(r'.*Storage created:\\s*([0-9]+):.*', line).group(1) for line in plrcui.before.decode('utf8').splitlines() if re.match(r'.*Storage created:\\s*([0-9]+):.*', line)][0]\n",
    "plrcui.sendline(passphrase)\n",
    "plrcui.expect('# ')\n",
    "\n",
    "storage_id"
   ]
  },
  {
   "cell_type": "markdown",
   "id": "marine-modeling",
   "metadata": {},
   "source": [
    "エラーとならなければ、これで設定は終了。"
   ]
  },
  {
   "cell_type": "code",
   "execution_count": 5,
   "id": "baking-cleaning",
   "metadata": {},
   "outputs": [
    {
     "data": {
      "text/plain": [
       "0"
      ]
     },
     "execution_count": 5,
     "metadata": {},
     "output_type": "execute_result"
    }
   ],
   "source": [
    "plrcui.sendline('exit')\n",
    "plrcui.expect('Exiting... done.')"
   ]
  },
  {
   "cell_type": "markdown",
   "id": "broke-america",
   "metadata": {},
   "source": [
    "得られた設定を設定ファイルに書き出す。"
   ]
  },
  {
   "cell_type": "code",
   "execution_count": 6,
   "id": "complimentary-connection",
   "metadata": {},
   "outputs": [],
   "source": [
    "import os\n",
    "\n",
    "with open(os.path.expanduser('~/.plrprofile'), 'w') as f:\n",
    "    f.write('''export STORAGE_ID={storage_id}\n",
    "export PASSPHRASE=\"{passphrase}\"'''.format(**locals()))"
   ]
  },
  {
   "cell_type": "markdown",
   "id": "banner-shelf",
   "metadata": {},
   "source": [
    "PLRデータ取得サービスを起動する。"
   ]
  },
  {
   "cell_type": "code",
   "execution_count": 7,
   "id": "numerical-observer",
   "metadata": {},
   "outputs": [
    {
     "name": "stdout",
     "output_type": "stream",
     "text": [
      "plrfs                            STOPPED   Not started\r\n",
      "rabbitmq                         RUNNING   pid 21, uptime 0:01:10\r\n"
     ]
    }
   ],
   "source": [
    "!supervisorctl -s http://localhost:9001 status"
   ]
  },
  {
   "cell_type": "code",
   "execution_count": 8,
   "id": "forward-gamma",
   "metadata": {},
   "outputs": [
    {
     "name": "stdout",
     "output_type": "stream",
     "text": [
      "plrfs: started\r\n"
     ]
    }
   ],
   "source": [
    "import time\n",
    "\n",
    "!supervisorctl -s http://localhost:9001 start plrfs\n",
    "# 起動完了するまで1分待つ\n",
    "time.sleep(60)"
   ]
  },
  {
   "cell_type": "code",
   "execution_count": 9,
   "id": "sought-dealing",
   "metadata": {},
   "outputs": [],
   "source": [
    "# 問題が発生した場合は以下のコマンドをコメントアウトして調査する。\n",
    "# !cat /tmp/supervisor-plrfs.log"
   ]
  },
  {
   "cell_type": "markdown",
   "id": "immune-request",
   "metadata": {},
   "source": [
    "# 動作確認"
   ]
  },
  {
   "cell_type": "code",
   "execution_count": 10,
   "id": "continuous-moisture",
   "metadata": {},
   "outputs": [],
   "source": [
    "import asyncio\n",
    "from plrfs.rpc_client import PLRFSClient\n",
    "\n",
    "loop = asyncio.get_event_loop()"
   ]
  },
  {
   "cell_type": "markdown",
   "id": "streaming-radio",
   "metadata": {},
   "source": [
    "チャンネル一覧を取得する。"
   ]
  },
  {
   "cell_type": "code",
   "execution_count": 11,
   "id": "joined-cosmetic",
   "metadata": {},
   "outputs": [
    {
     "data": {
      "text/plain": [
       "[{'kind': 'folder', 'id': '20210218034432_8WEg', 'name': 'family'},\n",
       " {'kind': 'folder', 'id': '20210218034432_eepe', 'name': 'coworkers'},\n",
       " {'kind': 'folder', 'id': '20210218034432_rMn9', 'name': 'friends'},\n",
       " {'kind': 'folder', 'id': '20210302031112_3GCW', 'name': '共有テスト'},\n",
       " {'kind': 'folder', 'id': '20210302070238_7B7I', 'name': 'Garmin Connect活動記録'},\n",
       " {'kind': 'folder', 'id': '20210302070238_GD5k', 'name': 'Cloze Test学習記録'},\n",
       " {'kind': 'folder', 'id': '20210406135701_CwTF', 'name': 'cog-pds-log'}]"
      ]
     },
     "execution_count": 11,
     "metadata": {},
     "output_type": "execute_result"
    }
   ],
   "source": [
    "client = await PLRFSClient(loop).connect()\n",
    "\n",
    "channels = await client.get_files([])\n",
    "channels"
   ]
  },
  {
   "cell_type": "code",
   "execution_count": 12,
   "id": "advance-bulgaria",
   "metadata": {},
   "outputs": [
    {
     "data": {
      "text/plain": [
       "{'kind': 'folder', 'id': '20210406135701_CwTF', 'name': 'cog-pds-log'}"
      ]
     },
     "execution_count": 12,
     "metadata": {},
     "output_type": "execute_result"
    }
   ],
   "source": [
    "# Garmin Connect Channelがなければエラーとなります。無視してください\n",
    "garmin_channel = [c for c in channels if c['name'] == 'cog-pds-log'][0]\n",
    "garmin_channel"
   ]
  },
  {
   "cell_type": "code",
   "execution_count": 15,
   "id": "imperial-power",
   "metadata": {},
   "outputs": [
    {
     "name": "stdout",
     "output_type": "stream",
     "text": [
      "[{'kind': 'file', 'content': None, 'id': '#20210607071918_tki8#begin', 'name': 'begin'}, {'kind': 'file', 'content': None, 'id': '#20210607071918_tki8#cnt', 'name': 'cnt'}, {'kind': 'file', 'content': None, 'id': '#20210607071918_tki8#cogPDSJSON', 'name': 'cogPDSJSON'}, {'kind': 'file', 'content': None, 'id': '#20210607071918_tki8#cogPDSUser', 'name': 'cogPDSUser'}, {'kind': 'file', 'content': None, 'id': '#20210607071918_tki8#creator', 'name': 'creator'}]\n",
      "[{'kind': 'file', 'content': None, 'id': '#20210607071913_7Kdx#begin', 'name': 'begin'}, {'kind': 'file', 'content': None, 'id': '#20210607071913_7Kdx#cnt', 'name': 'cnt'}, {'kind': 'file', 'content': None, 'id': '#20210607071913_7Kdx#cogPDSJSON', 'name': 'cogPDSJSON'}, {'kind': 'file', 'content': None, 'id': '#20210607071913_7Kdx#cogPDSUser', 'name': 'cogPDSUser'}, {'kind': 'file', 'content': None, 'id': '#20210607071913_7Kdx#creator', 'name': 'creator'}]\n",
      "[{'kind': 'file', 'content': None, 'id': '#20210607071916_HekS#begin', 'name': 'begin'}, {'kind': 'file', 'content': None, 'id': '#20210607071916_HekS#cnt', 'name': 'cnt'}, {'kind': 'file', 'content': None, 'id': '#20210607071916_HekS#cogPDSJSON', 'name': 'cogPDSJSON'}, {'kind': 'file', 'content': None, 'id': '#20210607071916_HekS#cogPDSUser', 'name': 'cogPDSUser'}, {'kind': 'file', 'content': None, 'id': '#20210607071916_HekS#creator', 'name': 'creator'}]\n",
      "[{'kind': 'file', 'content': None, 'id': '#20210607072021_iPAZ#begin', 'name': 'begin'}, {'kind': 'file', 'content': None, 'id': '#20210607072021_iPAZ#cnt', 'name': 'cnt'}, {'kind': 'file', 'content': None, 'id': '#20210607072021_iPAZ#cogPDSJSON', 'name': 'cogPDSJSON'}, {'kind': 'file', 'content': None, 'id': '#20210607072021_iPAZ#cogPDSUser', 'name': 'cogPDSUser'}, {'kind': 'file', 'content': None, 'id': '#20210607072021_iPAZ#creator', 'name': 'creator'}]\n",
      "[{'kind': 'file', 'content': None, 'id': '#20210607072024_c-oB#begin', 'name': 'begin'}, {'kind': 'file', 'content': None, 'id': '#20210607072024_c-oB#cnt', 'name': 'cnt'}, {'kind': 'file', 'content': None, 'id': '#20210607072024_c-oB#cogPDSJSON', 'name': 'cogPDSJSON'}, {'kind': 'file', 'content': None, 'id': '#20210607072024_c-oB#cogPDSUser', 'name': 'cogPDSUser'}, {'kind': 'file', 'content': None, 'id': '#20210607072024_c-oB#creator', 'name': 'creator'}]\n",
      "[{'kind': 'file', 'content': None, 'id': '#20210607072017_4Ft8#begin', 'name': 'begin'}, {'kind': 'file', 'content': None, 'id': '#20210607072017_4Ft8#cnt', 'name': 'cnt'}, {'kind': 'file', 'content': None, 'id': '#20210607072017_4Ft8#cogPDSJSON', 'name': 'cogPDSJSON'}, {'kind': 'file', 'content': None, 'id': '#20210607072017_4Ft8#cogPDSUser', 'name': 'cogPDSUser'}, {'kind': 'file', 'content': None, 'id': '#20210607072017_4Ft8#creator', 'name': 'creator'}]\n",
      "[{'kind': 'file', 'content': None, 'id': '#20210607072028_PYcq#begin', 'name': 'begin'}, {'kind': 'file', 'content': None, 'id': '#20210607072028_PYcq#cnt', 'name': 'cnt'}, {'kind': 'file', 'content': None, 'id': '#20210607072028_PYcq#cogPDSJSON', 'name': 'cogPDSJSON'}, {'kind': 'file', 'content': None, 'id': '#20210607072028_PYcq#cogPDSUser', 'name': 'cogPDSUser'}, {'kind': 'file', 'content': None, 'id': '#20210607072028_PYcq#creator', 'name': 'creator'}]\n",
      "[{'kind': 'file', 'content': None, 'id': '#20210607072507_SgKY#begin', 'name': 'begin'}, {'kind': 'file', 'content': None, 'id': '#20210607072507_SgKY#cnt', 'name': 'cnt'}, {'kind': 'file', 'content': None, 'id': '#20210607072507_SgKY#cogPDSJSON', 'name': 'cogPDSJSON'}, {'kind': 'file', 'content': None, 'id': '#20210607072507_SgKY#cogPDSUser', 'name': 'cogPDSUser'}, {'kind': 'file', 'content': None, 'id': '#20210607072507_SgKY#creator', 'name': 'creator'}]\n",
      "[{'kind': 'file', 'content': None, 'id': '#20210607072713_8SQZ#begin', 'name': 'begin'}, {'kind': 'file', 'content': None, 'id': '#20210607072713_8SQZ#cnt', 'name': 'cnt'}, {'kind': 'file', 'content': None, 'id': '#20210607072713_8SQZ#cogPDSJSON', 'name': 'cogPDSJSON'}, {'kind': 'file', 'content': None, 'id': '#20210607072713_8SQZ#cogPDSUser', 'name': 'cogPDSUser'}, {'kind': 'file', 'content': None, 'id': '#20210607072713_8SQZ#creator', 'name': 'creator'}]\n",
      "[{'kind': 'file', 'content': None, 'id': '#20210607072709_kUo3#begin', 'name': 'begin'}, {'kind': 'file', 'content': None, 'id': '#20210607072709_kUo3#cnt', 'name': 'cnt'}, {'kind': 'file', 'content': None, 'id': '#20210607072709_kUo3#cogPDSJSON', 'name': 'cogPDSJSON'}, {'kind': 'file', 'content': None, 'id': '#20210607072709_kUo3#cogPDSUser', 'name': 'cogPDSUser'}, {'kind': 'file', 'content': None, 'id': '#20210607072709_kUo3#creator', 'name': 'creator'}]\n",
      "[{'kind': 'file', 'content': None, 'id': '#20210607073004_fcvT#begin', 'name': 'begin'}, {'kind': 'file', 'content': None, 'id': '#20210607073004_fcvT#cnt', 'name': 'cnt'}, {'kind': 'file', 'content': None, 'id': '#20210607073004_fcvT#cogPDSJSON', 'name': 'cogPDSJSON'}, {'kind': 'file', 'content': None, 'id': '#20210607073004_fcvT#cogPDSUser', 'name': 'cogPDSUser'}, {'kind': 'file', 'content': None, 'id': '#20210607073004_fcvT#creator', 'name': 'creator'}]\n",
      "[{'kind': 'file', 'content': None, 'id': '#20210607073104_99pY#begin', 'name': 'begin'}, {'kind': 'file', 'content': None, 'id': '#20210607073104_99pY#cnt', 'name': 'cnt'}, {'kind': 'file', 'content': None, 'id': '#20210607073104_99pY#cogPDSJSON', 'name': 'cogPDSJSON'}, {'kind': 'file', 'content': None, 'id': '#20210607073104_99pY#cogPDSUser', 'name': 'cogPDSUser'}, {'kind': 'file', 'content': None, 'id': '#20210607073104_99pY#creator', 'name': 'creator'}]\n",
      "[{'kind': 'file', 'content': None, 'id': '#20210607132217_IV4U#begin', 'name': 'begin'}, {'kind': 'file', 'content': None, 'id': '#20210607132217_IV4U#cnt', 'name': 'cnt'}, {'kind': 'file', 'content': None, 'id': '#20210607132217_IV4U#cogPDSJSON', 'name': 'cogPDSJSON'}, {'kind': 'file', 'content': None, 'id': '#20210607132217_IV4U#cogPDSUser', 'name': 'cogPDSUser'}, {'kind': 'file', 'content': None, 'id': '#20210607132217_IV4U#creator', 'name': 'creator'}]\n",
      "[{'kind': 'file', 'content': None, 'id': '#20210607132210_nHzR#begin', 'name': 'begin'}, {'kind': 'file', 'content': None, 'id': '#20210607132210_nHzR#cnt', 'name': 'cnt'}, {'kind': 'file', 'content': None, 'id': '#20210607132210_nHzR#cogPDSJSON', 'name': 'cogPDSJSON'}, {'kind': 'file', 'content': None, 'id': '#20210607132210_nHzR#cogPDSUser', 'name': 'cogPDSUser'}, {'kind': 'file', 'content': None, 'id': '#20210607132210_nHzR#creator', 'name': 'creator'}]\n",
      "[{'kind': 'file', 'content': None, 'id': '#20210607155908_AYbP#begin', 'name': 'begin'}, {'kind': 'file', 'content': None, 'id': '#20210607155908_AYbP#cnt', 'name': 'cnt'}, {'kind': 'file', 'content': None, 'id': '#20210607155908_AYbP#cogPDSJSON', 'name': 'cogPDSJSON'}, {'kind': 'file', 'content': None, 'id': '#20210607155908_AYbP#cogPDSUser', 'name': 'cogPDSUser'}, {'kind': 'file', 'content': None, 'id': '#20210607155908_AYbP#creator', 'name': 'creator'}]\n",
      "[{'kind': 'file', 'content': None, 'id': '#20210607160716_8FNN#begin', 'name': 'begin'}, {'kind': 'file', 'content': None, 'id': '#20210607160716_8FNN#cnt', 'name': 'cnt'}, {'kind': 'file', 'content': None, 'id': '#20210607160716_8FNN#cogPDSJSON', 'name': 'cogPDSJSON'}, {'kind': 'file', 'content': None, 'id': '#20210607160716_8FNN#cogPDSUser', 'name': 'cogPDSUser'}, {'kind': 'file', 'content': None, 'id': '#20210607160716_8FNN#creator', 'name': 'creator'}]\n",
      "[{'kind': 'file', 'content': None, 'id': '#20210607160713_OkmX#begin', 'name': 'begin'}, {'kind': 'file', 'content': None, 'id': '#20210607160713_OkmX#cnt', 'name': 'cnt'}, {'kind': 'file', 'content': None, 'id': '#20210607160713_OkmX#cogPDSJSON', 'name': 'cogPDSJSON'}, {'kind': 'file', 'content': None, 'id': '#20210607160713_OkmX#cogPDSUser', 'name': 'cogPDSUser'}, {'kind': 'file', 'content': None, 'id': '#20210607160713_OkmX#creator', 'name': 'creator'}]\n",
      "[{'kind': 'file', 'content': None, 'id': '#20210607160807_sXbJ#begin', 'name': 'begin'}, {'kind': 'file', 'content': None, 'id': '#20210607160807_sXbJ#cnt', 'name': 'cnt'}, {'kind': 'file', 'content': None, 'id': '#20210607160807_sXbJ#cogPDSJSON', 'name': 'cogPDSJSON'}, {'kind': 'file', 'content': None, 'id': '#20210607160807_sXbJ#cogPDSUser', 'name': 'cogPDSUser'}, {'kind': 'file', 'content': None, 'id': '#20210607160807_sXbJ#creator', 'name': 'creator'}]\n",
      "[{'kind': 'file', 'content': None, 'id': '#20210607194908_nHMZ#begin', 'name': 'begin'}, {'kind': 'file', 'content': None, 'id': '#20210607194908_nHMZ#cnt', 'name': 'cnt'}, {'kind': 'file', 'content': None, 'id': '#20210607194908_nHMZ#cogPDSJSON', 'name': 'cogPDSJSON'}, {'kind': 'file', 'content': None, 'id': '#20210607194908_nHMZ#cogPDSUser', 'name': 'cogPDSUser'}, {'kind': 'file', 'content': None, 'id': '#20210607194908_nHMZ#creator', 'name': 'creator'}]\n",
      "[{'kind': 'file', 'content': None, 'id': '#20210607194905_D7xB#begin', 'name': 'begin'}, {'kind': 'file', 'content': None, 'id': '#20210607194905_D7xB#cnt', 'name': 'cnt'}, {'kind': 'file', 'content': None, 'id': '#20210607194905_D7xB#cogPDSJSON', 'name': 'cogPDSJSON'}, {'kind': 'file', 'content': None, 'id': '#20210607194905_D7xB#cogPDSUser', 'name': 'cogPDSUser'}, {'kind': 'file', 'content': None, 'id': '#20210607194905_D7xB#creator', 'name': 'creator'}]\n"
     ]
    },
    {
     "data": {
      "text/plain": [
       "[('*動画視聴ログ記録: 動画を視聴しました: 再生時間 0 秒',\n",
       "  '2021-06-07T16:05:16.593Z',\n",
       "  {'meta': {'task': {'id': 'Sb7lnzVw86yQwLxmXFFA', 'title': '動画視聴ログ記録'},\n",
       "    'started': 1623081915098,\n",
       "    'recorded': 1623081916591,\n",
       "    'finished': 1623081916591,\n",
       "    'duration': 1493},\n",
       "   'data': {'history': [{'time': 1623081916112,\n",
       "      'event': {'type': 'StateChange', 'state': 'UNSTARTED'},\n",
       "      'state': {'isMuted': False,\n",
       "       'volume': 100,\n",
       "       'playbackRate': 1,\n",
       "       'currentTime': 0,\n",
       "       'playerState': 'UNSTARTED',\n",
       "       'playbackQuality': 'unknown'}},\n",
       "     {'time': 1623081916113,\n",
       "      'event': {'type': 'StateChange', 'state': 'CUED'},\n",
       "      'state': {'isMuted': False,\n",
       "       'volume': 100,\n",
       "       'playbackRate': 1,\n",
       "       'currentTime': 0,\n",
       "       'playerState': 'CUED',\n",
       "       'playbackQuality': 'unknown'}},\n",
       "     {'time': 1623081916547,\n",
       "      'event': {'type': 'StateChange', 'state': 'UNSTARTED'},\n",
       "      'state': {'isMuted': False,\n",
       "       'volume': 100,\n",
       "       'playbackRate': 1,\n",
       "       'currentTime': 0,\n",
       "       'playerState': 'UNSTARTED',\n",
       "       'playbackQuality': 'unknown'}},\n",
       "     {'time': 1623081916548,\n",
       "      'event': {'type': 'StateChange', 'state': 'CUED'},\n",
       "      'state': {'isMuted': False,\n",
       "       'volume': 100,\n",
       "       'playbackRate': 1,\n",
       "       'currentTime': 0,\n",
       "       'playerState': 'CUED',\n",
       "       'playbackQuality': 'unknown'}}]}}),\n",
       " ('*動画視聴ログ記録: 動画を視聴しました: 再生時間 0 秒',\n",
       "  '2021-06-07T16:05:17.041Z',\n",
       "  {'meta': {'task': {'id': 'Sb7lnzVw86yQwLxmXFFA', 'title': '動画視聴ログ記録'},\n",
       "    'started': 1623081915098,\n",
       "    'recorded': 1623081917041,\n",
       "    'finished': 1623081917041,\n",
       "    'duration': 1943},\n",
       "   'data': {'history': [{'time': 1623081916112,\n",
       "      'event': {'type': 'StateChange', 'state': 'UNSTARTED'},\n",
       "      'state': {'isMuted': False,\n",
       "       'volume': 100,\n",
       "       'playbackRate': 1,\n",
       "       'currentTime': 0,\n",
       "       'playerState': 'UNSTARTED',\n",
       "       'playbackQuality': 'unknown'}},\n",
       "     {'time': 1623081916113,\n",
       "      'event': {'type': 'StateChange', 'state': 'CUED'},\n",
       "      'state': {'isMuted': False,\n",
       "       'volume': 100,\n",
       "       'playbackRate': 1,\n",
       "       'currentTime': 0,\n",
       "       'playerState': 'CUED',\n",
       "       'playbackQuality': 'unknown'}},\n",
       "     {'time': 1623081916547,\n",
       "      'event': {'type': 'StateChange', 'state': 'UNSTARTED'},\n",
       "      'state': {'isMuted': False,\n",
       "       'volume': 100,\n",
       "       'playbackRate': 1,\n",
       "       'currentTime': 0,\n",
       "       'playerState': 'UNSTARTED',\n",
       "       'playbackQuality': 'unknown'}},\n",
       "     {'time': 1623081916548,\n",
       "      'event': {'type': 'StateChange', 'state': 'CUED'},\n",
       "      'state': {'isMuted': False,\n",
       "       'volume': 100,\n",
       "       'playbackRate': 1,\n",
       "       'currentTime': 0,\n",
       "       'playerState': 'CUED',\n",
       "       'playbackQuality': 'unknown'}}]}}),\n",
       " ('*動画視聴ログ記録: 動画を視聴しました: 再生時間 0 秒',\n",
       "  '2021-06-07T16:06:05.955Z',\n",
       "  {'meta': {'task': {'id': 'Sb7lnzVw86yQwLxmXFFA', 'title': '動画視聴ログ記録'},\n",
       "    'started': 1623081962425,\n",
       "    'recorded': 1623081965953,\n",
       "    'finished': 1623081965953,\n",
       "    'duration': 3528},\n",
       "   'data': {'history': [{'time': 1623081964196,\n",
       "      'event': {'type': 'StateChange', 'state': 'UNSTARTED'},\n",
       "      'state': {'isMuted': False,\n",
       "       'volume': 100,\n",
       "       'playbackRate': 1,\n",
       "       'currentTime': 0,\n",
       "       'playerState': 'UNSTARTED',\n",
       "       'playbackQuality': 'unknown'}},\n",
       "     {'time': 1623081964196,\n",
       "      'event': {'type': 'StateChange', 'state': 'BUFFERING'},\n",
       "      'state': {'isMuted': False,\n",
       "       'volume': 100,\n",
       "       'playbackRate': 1,\n",
       "       'currentTime': 0,\n",
       "       'playerState': 'BUFFERING',\n",
       "       'playbackQuality': 'unknown'}},\n",
       "     {'time': 1623081964349,\n",
       "      'event': {'type': 'PlaybackQualityChange', 'quality': 'large'},\n",
       "      'state': {'isMuted': False,\n",
       "       'volume': 100,\n",
       "       'playbackRate': 1,\n",
       "       'currentTime': 0,\n",
       "       'playerState': 'BUFFERING',\n",
       "       'playbackQuality': 'large'}},\n",
       "     {'time': 1623081964859,\n",
       "      'event': {'type': 'PlaybackQualityChange', 'quality': 'hd720'},\n",
       "      'state': {'isMuted': False,\n",
       "       'volume': 100,\n",
       "       'playbackRate': 1,\n",
       "       'currentTime': 0,\n",
       "       'playerState': 'BUFFERING',\n",
       "       'playbackQuality': 'hd720'}},\n",
       "     {'time': 1623081965136,\n",
       "      'event': {'type': 'StateChange', 'state': 'PLAYING'},\n",
       "      'state': {'isMuted': False,\n",
       "       'volume': 100,\n",
       "       'playbackRate': 1,\n",
       "       'currentTime': 0.07628857898083496,\n",
       "       'playerState': 'PLAYING',\n",
       "       'playbackQuality': 'hd720'}},\n",
       "     {'time': 1623081965717,\n",
       "      'event': {'type': 'StateChange', 'state': 'UNSTARTED'},\n",
       "      'state': {'isMuted': False,\n",
       "       'volume': 100,\n",
       "       'playbackRate': 1,\n",
       "       'currentTime': 0,\n",
       "       'playerState': 'UNSTARTED',\n",
       "       'playbackQuality': 'unknown'}},\n",
       "     {'time': 1623081965718,\n",
       "      'event': {'type': 'StateChange', 'state': 'CUED'},\n",
       "      'state': {'isMuted': False,\n",
       "       'volume': 100,\n",
       "       'playbackRate': 1,\n",
       "       'currentTime': 0,\n",
       "       'playerState': 'CUED',\n",
       "       'playbackQuality': 'unknown'}}]}}),\n",
       " ('*初年次ゼミ - 第１回 ストーリー法: 動画が一時停止されました: 再生時間 34 秒',\n",
       "  '2021-06-07T19:47:14.788Z',\n",
       "  {'meta': {'task': {'id': 'Z1WcnPbeOCmMtYIhXyOG',\n",
       "     'title': '初年次ゼミ - 第１回 ストーリー法'},\n",
       "    'started': 1623095193316,\n",
       "    'recorded': 1623095234787,\n",
       "    'finished': None,\n",
       "    'duration': None},\n",
       "   'data': {'history': [{'time': 1623095198520,\n",
       "      'event': {'type': 'StateChange', 'state': 'UNSTARTED'},\n",
       "      'state': {'isMuted': False,\n",
       "       'volume': 100,\n",
       "       'playbackRate': 1,\n",
       "       'currentTime': 0,\n",
       "       'playerState': 'UNSTARTED',\n",
       "       'playbackQuality': 'unknown'}},\n",
       "     {'time': 1623095198526,\n",
       "      'event': {'type': 'StateChange', 'state': 'BUFFERING'},\n",
       "      'state': {'isMuted': False,\n",
       "       'volume': 100,\n",
       "       'playbackRate': 1,\n",
       "       'currentTime': 0,\n",
       "       'playerState': 'BUFFERING',\n",
       "       'playbackQuality': 'unknown'}},\n",
       "     {'time': 1623095198826,\n",
       "      'event': {'type': 'PlaybackQualityChange', 'quality': 'medium'},\n",
       "      'state': {'isMuted': False,\n",
       "       'volume': 100,\n",
       "       'playbackRate': 1,\n",
       "       'currentTime': 0,\n",
       "       'playerState': 'BUFFERING',\n",
       "       'playbackQuality': 'medium'}},\n",
       "     {'time': 1623095199970,\n",
       "      'event': {'type': 'PlaybackQualityChange', 'quality': 'large'},\n",
       "      'state': {'isMuted': False,\n",
       "       'volume': 100,\n",
       "       'playbackRate': 1,\n",
       "       'currentTime': 0,\n",
       "       'playerState': 'BUFFERING',\n",
       "       'playbackQuality': 'large'}},\n",
       "     {'time': 1623095200638,\n",
       "      'event': {'type': 'StateChange', 'state': 'PLAYING'},\n",
       "      'state': {'isMuted': False,\n",
       "       'volume': 100,\n",
       "       'playbackRate': 1,\n",
       "       'currentTime': 0.016687114440917968,\n",
       "       'playerState': 'PLAYING',\n",
       "       'playbackQuality': 'large'}},\n",
       "     {'time': 1623095207443,\n",
       "      'event': {'type': 'PlaybackRateChange', 'rate': 2},\n",
       "      'state': {'isMuted': False,\n",
       "       'volume': 100,\n",
       "       'playbackRate': 2,\n",
       "       'currentTime': 6.868603984741211,\n",
       "       'playerState': 'PLAYING',\n",
       "       'playbackQuality': 'large'}},\n",
       "     {'time': 1623095234785,\n",
       "      'event': {'type': 'StateChange', 'state': 'PAUSED'},\n",
       "      'state': {'isMuted': False,\n",
       "       'volume': 100,\n",
       "       'playbackRate': 2,\n",
       "       'currentTime': 61.32725,\n",
       "       'playerState': 'PAUSED',\n",
       "       'playbackQuality': 'large'}}]}}),\n",
       " ('*初年次ゼミ - 第１回 ストーリー法: 動画を視聴しました: 再生時間 34 秒',\n",
       "  '2021-06-07T19:47:16.451Z',\n",
       "  {'meta': {'task': {'id': 'Z1WcnPbeOCmMtYIhXyOG',\n",
       "     'title': '初年次ゼミ - 第１回 ストーリー法'},\n",
       "    'started': 1623095193316,\n",
       "    'recorded': 1623095236451,\n",
       "    'finished': 1623095236451,\n",
       "    'duration': 43135},\n",
       "   'data': {'history': [{'time': 1623095198520,\n",
       "      'event': {'type': 'StateChange', 'state': 'UNSTARTED'},\n",
       "      'state': {'isMuted': False,\n",
       "       'volume': 100,\n",
       "       'playbackRate': 1,\n",
       "       'currentTime': 0,\n",
       "       'playerState': 'UNSTARTED',\n",
       "       'playbackQuality': 'unknown'}},\n",
       "     {'time': 1623095198526,\n",
       "      'event': {'type': 'StateChange', 'state': 'BUFFERING'},\n",
       "      'state': {'isMuted': False,\n",
       "       'volume': 100,\n",
       "       'playbackRate': 1,\n",
       "       'currentTime': 0,\n",
       "       'playerState': 'BUFFERING',\n",
       "       'playbackQuality': 'unknown'}},\n",
       "     {'time': 1623095198826,\n",
       "      'event': {'type': 'PlaybackQualityChange', 'quality': 'medium'},\n",
       "      'state': {'isMuted': False,\n",
       "       'volume': 100,\n",
       "       'playbackRate': 1,\n",
       "       'currentTime': 0,\n",
       "       'playerState': 'BUFFERING',\n",
       "       'playbackQuality': 'medium'}},\n",
       "     {'time': 1623095199970,\n",
       "      'event': {'type': 'PlaybackQualityChange', 'quality': 'large'},\n",
       "      'state': {'isMuted': False,\n",
       "       'volume': 100,\n",
       "       'playbackRate': 1,\n",
       "       'currentTime': 0,\n",
       "       'playerState': 'BUFFERING',\n",
       "       'playbackQuality': 'large'}},\n",
       "     {'time': 1623095200638,\n",
       "      'event': {'type': 'StateChange', 'state': 'PLAYING'},\n",
       "      'state': {'isMuted': False,\n",
       "       'volume': 100,\n",
       "       'playbackRate': 1,\n",
       "       'currentTime': 0.016687114440917968,\n",
       "       'playerState': 'PLAYING',\n",
       "       'playbackQuality': 'large'}},\n",
       "     {'time': 1623095207443,\n",
       "      'event': {'type': 'PlaybackRateChange', 'rate': 2},\n",
       "      'state': {'isMuted': False,\n",
       "       'volume': 100,\n",
       "       'playbackRate': 2,\n",
       "       'currentTime': 6.868603984741211,\n",
       "       'playerState': 'PLAYING',\n",
       "       'playbackQuality': 'large'}},\n",
       "     {'time': 1623095234785,\n",
       "      'event': {'type': 'StateChange', 'state': 'PAUSED'},\n",
       "      'state': {'isMuted': False,\n",
       "       'volume': 100,\n",
       "       'playbackRate': 2,\n",
       "       'currentTime': 61.32725,\n",
       "       'playerState': 'PAUSED',\n",
       "       'playbackQuality': 'large'}},\n",
       "     {'time': 1623095235993,\n",
       "      'event': {'type': 'StateChange', 'state': 'UNSTARTED'},\n",
       "      'state': {'isMuted': False,\n",
       "       'volume': 100,\n",
       "       'playbackRate': 2,\n",
       "       'currentTime': 0,\n",
       "       'playerState': 'UNSTARTED',\n",
       "       'playbackQuality': 'unknown'}},\n",
       "     {'time': 1623095235995,\n",
       "      'event': {'type': 'StateChange', 'state': 'CUED'},\n",
       "      'state': {'isMuted': False,\n",
       "       'volume': 100,\n",
       "       'playbackRate': 2,\n",
       "       'currentTime': 0,\n",
       "       'playerState': 'CUED',\n",
       "       'playbackQuality': 'unknown'}}]}})]"
      ]
     },
     "execution_count": 15,
     "metadata": {},
     "output_type": "execute_result"
    }
   ],
   "source": [
    "import json\n",
    "\n",
    "timeline_item_data = []\n",
    "timeline_items = await client.get_files([garmin_channel['id']])\n",
    "for item in timeline_items[-20:]:\n",
    "    timeline_properties = await client.get_files([garmin_channel['id'], item['id']])\n",
    "    assert 'cnt' in [p['name'] for p in timeline_properties]\n",
    "    assert 'begin' in [p['name'] for p in timeline_properties]\n",
    "    assert 'cogPDSJSON' in [p['name'] for p in timeline_properties]\n",
    "    summary = await client.get_file([garmin_channel['id'], item['id'], [p['id'] for p in timeline_properties if p['name'] == 'cnt'][0]])\n",
    "    begin = await client.get_file([garmin_channel['id'], item['id'], [p['id'] for p in timeline_properties if p['name'] == 'begin'][0]])\n",
    "    cogPDSJSON = await client.get_file([garmin_channel['id'], item['id'], [p['id'] for p in timeline_properties if p['name'] == 'cogPDSJSON'][0]])\n",
    "    timeline_item_data.append((summary['content'].decode('utf8'), begin['content'].decode('utf8'), json.loads(cogPDSJSON['content'])))\n",
    "#    timeline_item_data\n",
    "timeline_item_data[-5:]"
   ]
  },
  {
   "cell_type": "code",
   "execution_count": null,
   "id": "b2544b5f",
   "metadata": {},
   "outputs": [],
   "source": []
  }
 ],
 "metadata": {
  "kernelspec": {
   "display_name": "Python 3",
   "language": "python",
   "name": "python3"
  },
  "language_info": {
   "codemirror_mode": {
    "name": "ipython",
    "version": 3
   },
   "file_extension": ".py",
   "mimetype": "text/x-python",
   "name": "python",
   "nbconvert_exporter": "python",
   "pygments_lexer": "ipython3",
   "version": "3.9.2"
  }
 },
 "nbformat": 4,
 "nbformat_minor": 5
}
