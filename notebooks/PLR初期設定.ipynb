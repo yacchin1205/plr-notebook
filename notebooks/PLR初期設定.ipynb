{
 "cells": [
  {
   "cell_type": "markdown",
   "id": "special-virginia",
   "metadata": {},
   "source": [
    "# PLR初期設定\n",
    "\n",
    "PLRのアイテムをJupyter Notebookで処理するためには、本NotebookにしたがってPLR初期設定を実施する必要があります。"
   ]
  },
  {
   "cell_type": "markdown",
   "id": "median-publisher",
   "metadata": {},
   "source": [
    "# PLRバイナリのインストール\n",
    "\n",
    "本環境では、PLR CUIバイナリをPLRへのアクセスに使用します。これは公開されていないので、別に共有されたものを **このNotebookと同じディレクトリ** に配置してください。"
   ]
  },
  {
   "cell_type": "code",
   "execution_count": null,
   "id": "congressional-finnish",
   "metadata": {},
   "outputs": [],
   "source": [
    "import os\n",
    "\n",
    "assert os.path.exists('plr.zip')"
   ]
  },
  {
   "cell_type": "markdown",
   "id": "central-yeast",
   "metadata": {},
   "source": [
    "上記のセルがエラーを出力しなければ正常にファイルが設定されている。以下のセルを順番に実行する。"
   ]
  },
  {
   "cell_type": "code",
   "execution_count": null,
   "id": "supreme-delivery",
   "metadata": {
    "scrolled": true
   },
   "outputs": [],
   "source": [
    "!unzip -o -d ~/ ./plr.zip"
   ]
  },
  {
   "cell_type": "code",
   "execution_count": null,
   "id": "defensive-special",
   "metadata": {},
   "outputs": [],
   "source": [
    "!mkdir -p ~/.groovy\n",
    "!cp -fr ~/plr/lib ~/.groovy/"
   ]
  },
  {
   "cell_type": "markdown",
   "id": "narrative-working",
   "metadata": {},
   "source": [
    "# PLRアカウントの初期設定"
   ]
  },
  {
   "cell_type": "markdown",
   "id": "interim-snake",
   "metadata": {},
   "source": [
    "以下のCellを1つ1つ実行する。"
   ]
  },
  {
   "cell_type": "code",
   "execution_count": null,
   "id": "superb-poetry",
   "metadata": {},
   "outputs": [],
   "source": [
    "import pexpect\n",
    "\n",
    "plrcommand = os.path.expanduser('~/plr/bin/plr')\n",
    "plrcui = pexpect.spawn(plrcommand + \" storage new googleDrive\")"
   ]
  },
  {
   "cell_type": "markdown",
   "id": "australian-albany",
   "metadata": {},
   "source": [
    "以下のセルを実行すると、URLが表示されるので、ブラウザで開く。ブラウザでGoogle認証を行うと、http://localhost:40385/... というURLが表示されるので、これを入力欄に貼り付ける。(ブラウザ画面にはエラーが表示されるが問題ない)"
   ]
  },
  {
   "cell_type": "code",
   "execution_count": null,
   "id": "suburban-array",
   "metadata": {
    "scrolled": true
   },
   "outputs": [],
   "source": [
    "plrcui.expect(r'\\s+https://accounts.google.com/.*')\n",
    "print(plrcui.after.decode('utf8').strip())\n",
    "\n",
    "callback_url = input('このセルの出力に表示されるURLをクリックし、Googleアカウントで認証を行い、ブラウザに表示されたURLを貼り付けてください。')\n",
    "!curl -v -X GET \"{callback_url}\""
   ]
  },
  {
   "cell_type": "markdown",
   "id": "indirect-eating",
   "metadata": {},
   "source": [
    "PLRのパスフレーズを入力する。Personary設定時に指定したパスワードを以下に指定する。"
   ]
  },
  {
   "cell_type": "code",
   "execution_count": null,
   "id": "southwest-police",
   "metadata": {},
   "outputs": [],
   "source": [
    "import re\n",
    "from getpass import getpass\n",
    "\n",
    "passphrase = getpass()\n",
    "plrcui.expect('Enter passphrase:')\n",
    "storage_id = [re.match(r'.*Storage created:\\s*([0-9]+):.*', line).group(1) for line in plrcui.before.decode('utf8').splitlines() if re.match(r'.*Storage created:\\s*([0-9]+):.*', line)][0]\n",
    "plrcui.sendline(passphrase)\n",
    "plrcui.expect('# ')\n",
    "\n",
    "storage_id"
   ]
  },
  {
   "cell_type": "markdown",
   "id": "marine-modeling",
   "metadata": {},
   "source": [
    "エラーとならなければ、これで設定は終了。"
   ]
  },
  {
   "cell_type": "code",
   "execution_count": null,
   "id": "baking-cleaning",
   "metadata": {},
   "outputs": [],
   "source": [
    "plrcui.sendline('exit')\n",
    "plrcui.expect('Exiting... done.')"
   ]
  },
  {
   "cell_type": "markdown",
   "id": "broke-america",
   "metadata": {},
   "source": [
    "得られた設定を設定ファイルに書き出す。"
   ]
  },
  {
   "cell_type": "code",
   "execution_count": null,
   "id": "complimentary-connection",
   "metadata": {},
   "outputs": [],
   "source": [
    "import os\n",
    "\n",
    "with open(os.path.expanduser('~/.plrprofile'), 'w') as f:\n",
    "    f.write('''export STORAGE_ID={storage_id}\n",
    "export PASSPHRASE=\"{passphrase}\"'''.format(**locals()))"
   ]
  },
  {
   "cell_type": "markdown",
   "id": "banner-shelf",
   "metadata": {},
   "source": [
    "PLRデータ取得サービスを起動する。"
   ]
  },
  {
   "cell_type": "code",
   "execution_count": null,
   "id": "numerical-observer",
   "metadata": {},
   "outputs": [],
   "source": [
    "!supervisorctl -s http://localhost:9001 status"
   ]
  },
  {
   "cell_type": "code",
   "execution_count": null,
   "id": "forward-gamma",
   "metadata": {},
   "outputs": [],
   "source": [
    "import time\n",
    "\n",
    "!supervisorctl -s http://localhost:9001 start plrfs\n",
    "# 起動完了するまで1分待つ\n",
    "time.sleep(60)"
   ]
  },
  {
   "cell_type": "code",
   "execution_count": null,
   "id": "sought-dealing",
   "metadata": {},
   "outputs": [],
   "source": [
    "# 問題が発生した場合は以下のコマンドをコメントアウトして調査する。\n",
    "# !cat /tmp/supervisor-plrfs.log"
   ]
  },
  {
   "cell_type": "markdown",
   "id": "immune-request",
   "metadata": {},
   "source": [
    "# 動作確認"
   ]
  },
  {
   "cell_type": "code",
   "execution_count": null,
   "id": "continuous-moisture",
   "metadata": {},
   "outputs": [],
   "source": [
    "import asyncio\n",
    "from plrfs.rpc_client import PLRFSClient\n",
    "\n",
    "loop = asyncio.get_event_loop()"
   ]
  },
  {
   "cell_type": "markdown",
   "id": "streaming-radio",
   "metadata": {},
   "source": [
    "チャンネル一覧を取得する。"
   ]
  },
  {
   "cell_type": "code",
   "execution_count": null,
   "id": "joined-cosmetic",
   "metadata": {},
   "outputs": [],
   "source": [
    "client = await PLRFSClient(loop).connect()\n",
    "\n",
    "channels = await client.get_files([])\n",
    "channels"
   ]
  },
  {
   "cell_type": "code",
   "execution_count": null,
   "id": "advance-bulgaria",
   "metadata": {},
   "outputs": [],
   "source": [
    "# Garmin Connect Channelがなければエラーとなります。無視してください\n",
    "garmin_channel = [c for c in channels if c['name'] == 'Garmin Connect活動記録'][0]\n",
    "garmin_channel"
   ]
  },
  {
   "cell_type": "code",
   "execution_count": null,
   "id": "imperial-power",
   "metadata": {},
   "outputs": [],
   "source": [
    "import json\n",
    "\n",
    "timeline_item_data = []\n",
    "timeline_items = await client.get_files([garmin_channel['id']])\n",
    "for item in timeline_items[-20:]:\n",
    "    timeline_properties = await client.get_files([garmin_channel['id'], item['id']])\n",
    "    assert 'cnt' in [p['name'] for p in timeline_properties]\n",
    "    assert 'begin' in [p['name'] for p in timeline_properties]\n",
    "    assert 'garminJSON' in [p['name'] for p in timeline_properties]\n",
    "    summary = await client.get_file([garmin_channel['id'], item['id'], [p['id'] for p in timeline_properties if p['name'] == 'cnt'][0]])\n",
    "    begin = await client.get_file([garmin_channel['id'], item['id'], [p['id'] for p in timeline_properties if p['name'] == 'begin'][0]])\n",
    "    garminJSON = await client.get_file([garmin_channel['id'], item['id'], [p['id'] for p in timeline_properties if p['name'] == 'garminJSON'][0]])\n",
    "    timeline_item_data.append((summary['content'].decode('utf8'), begin['content'].decode('utf8'), json.loads(garminJSON['content'])))\n",
    "#    timeline_item_data\n",
    "timeline_item_data[-5:]"
   ]
  },
  {
   "cell_type": "code",
   "execution_count": null,
   "id": "consecutive-capitol",
   "metadata": {},
   "outputs": [],
   "source": []
  }
 ],
 "metadata": {
  "kernelspec": {
   "display_name": "Python 3",
   "language": "python",
   "name": "python3"
  },
  "language_info": {
   "codemirror_mode": {
    "name": "ipython",
    "version": 3
   },
   "file_extension": ".py",
   "mimetype": "text/x-python",
   "name": "python",
   "nbconvert_exporter": "python",
   "pygments_lexer": "ipython3",
   "version": "3.8.8"
  }
 },
 "nbformat": 4,
 "nbformat_minor": 5
}
