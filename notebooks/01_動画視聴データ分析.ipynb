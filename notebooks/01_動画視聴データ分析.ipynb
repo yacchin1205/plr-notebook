{
 "cells": [
  {
   "cell_type": "markdown",
   "id": "dac0b81b",
   "metadata": {},
   "source": [
    "# PLRデータ分析例\n",
    "\n",
    "PLRに保存したデータの取得例です。\n",
    "\n",
    "本環境は [Jupyter Notebook](https://jupyter.org/) の形で構成されており、[Pythonスクリプト](https://www.python.jp/)を用いて記述しています。\n",
    "\n",
    "ライブラリは公式イメージ [jupyter/scipy-notebook](https://jupyter-docker-stacks.readthedocs.io/en/latest/using/selecting.html#jupyter-scipy-notebook) のものがインストールされています。\n",
    "\n",
    "**このサンプルは古いplr-notebook形式に基づいて作成されています。00_PLR初期設定に記載した、`plrget`コマンドを利用してください。**"
   ]
  },
  {
   "cell_type": "markdown",
   "id": "e063e0fc",
   "metadata": {},
   "source": [
    "# チャンネルの取得\n",
    "\n",
    "処理したいデータが格納されたチャンネルを取得します。cogtask.meにより格納されたデータを処理したい場合は、 `cog-pds-log` となります。\n",
    "\n",
    "\n",
    "> Jupyter Notebook Serverの起動直後など、実行がなかなか終わらない状態になる可能性があります。\n",
    "> 実行状態が `[*]` のまま先に進まない場合は 中断(■) を押して一旦中断し、再度実行してみてください。"
   ]
  },
  {
   "cell_type": "code",
   "execution_count": null,
   "id": "7d7fad21",
   "metadata": {},
   "outputs": [],
   "source": [
    "import asyncio\n",
    "from plrfs.rpc_client import PLRFSClient\n",
    "\n",
    "# クライアントライブラリを初期化\n",
    "loop = asyncio.get_event_loop()\n",
    "\n",
    "client = await PLRFSClient(loop).connect()\n",
    "\n",
    "# チャンネル一覧を取得\n",
    "channels = await client.get_files([])\n",
    "for ch in channels:\n",
    "    print('Channel', repr(ch['name']))"
   ]
  },
  {
   "cell_type": "markdown",
   "id": "3c0a1087",
   "metadata": {},
   "source": [
    "参照したいチャンネル名を以下に記述します。"
   ]
  },
  {
   "cell_type": "code",
   "execution_count": null,
   "id": "eff05eb8",
   "metadata": {},
   "outputs": [],
   "source": [
    "channel_name = 'cog-pds-log'\n",
    "channel_name"
   ]
  },
  {
   "cell_type": "code",
   "execution_count": null,
   "id": "a70d69f0",
   "metadata": {},
   "outputs": [],
   "source": [
    "channels = await client.get_files([])\n",
    "cogtask_me_chs = [c for c in channels if c['name'] == channel_name]\n",
    "assert len(cogtask_me_chs) > 0, 'cogtask.meのチャンネルが見つかりません。'\n",
    "cogtask_me_ch = cogtask_me_chs[0]\n",
    "cogtask_me_ch"
   ]
  },
  {
   "cell_type": "markdown",
   "id": "ef91ba73",
   "metadata": {},
   "source": [
    "データの読み込みは `PLRFSClient`から実施できます。これは以下のような関数を持っています。"
   ]
  },
  {
   "cell_type": "code",
   "execution_count": null,
   "id": "40213b35",
   "metadata": {},
   "outputs": [],
   "source": [
    "help(client)"
   ]
  },
  {
   "cell_type": "markdown",
   "id": "21e56af7",
   "metadata": {},
   "source": [
    "ファイルシステムを模した構造になっていて、 `client.get_files` で指定したチャンネル、アイテムの配下のアイテム一覧を取得することができます。また、`client.get_file` で指定したチャンネル、アイテムの配下のデータを取得することができます。\n"
   ]
  },
  {
   "cell_type": "markdown",
   "id": "0ad511bb",
   "metadata": {},
   "source": [
    "# 動画視聴データの取得\n",
    "\n",
    "試しに、チャンネルから動画視聴データを取り出してみましょう。"
   ]
  },
  {
   "cell_type": "code",
   "execution_count": null,
   "id": "f9fec9d9",
   "metadata": {},
   "outputs": [],
   "source": [
    "# https://cogtask.me/t/Z1WcnPbeOCmMtYIhXyOG ならば、 Z1WcnPbeOCmMtYIhXyOG\n",
    "# 第1回\n",
    "task_id = 'Z1WcnPbeOCmMtYIhXyOG'\n",
    "# 第2回\n",
    "#task_id = 'ntisRb7k6uIGASaTcsUw'\n",
    "# 第3回\n",
    "#task_id = 'FYEQso54EmZ3L3mNQkyy'\n",
    "task_id"
   ]
  },
  {
   "cell_type": "markdown",
   "id": "9df97eb3",
   "metadata": {},
   "source": [
    "まず、分析対象としたいタスクのIDに合致するログデータを抽出してみます。"
   ]
  },
  {
   "cell_type": "code",
   "execution_count": null,
   "id": "a13dd97b",
   "metadata": {},
   "outputs": [],
   "source": [
    "import json\n",
    "import pandas as pd\n",
    "\n",
    "timeline_item_data = []\n",
    "# チャンネル内のアイテムを取得する\n",
    "timeline_items = await client.get_files([cogtask_me_ch['id']])\n",
    "\n",
    "for item in timeline_items:\n",
    "    print('Processing...', item['id'])\n",
    "    # アイテムのプロパティを取得する\n",
    "    timeline_properties = await client.get_files([cogtask_me_ch['id'], item['id']])\n",
    "    if 'cogPDSJSON' not in [p['name'] for p in timeline_properties]:\n",
    "        continue\n",
    "    \n",
    "    # プロパティごとのデータを取得する\n",
    "    cogPDSJSON = await client.get_file([cogtask_me_ch['id'], item['id'], [p['id'] for p in timeline_properties if p['name'] == 'cogPDSJSON'][0]])\n",
    "    cogPDSJSONDict = json.loads(cogPDSJSON['content'])\n",
    "    if 'meta' in cogPDSJSONDict and 'task' in cogPDSJSONDict['meta'] and cogPDSJSONDict['meta']['task']['id'] == task_id:\n",
    "        assert 'cnt' in [p['name'] for p in timeline_properties]\n",
    "        assert 'begin' in [p['name'] for p in timeline_properties]\n",
    "        summary = await client.get_file([cogtask_me_ch['id'], item['id'], [p['id'] for p in timeline_properties if p['name'] == 'cnt'][0]])\n",
    "        begin = await client.get_file([cogtask_me_ch['id'], item['id'], [p['id'] for p in timeline_properties if p['name'] == 'begin'][0]])\n",
    "        if 'cogPDSUser' in [p['name'] for p in timeline_properties]:\n",
    "            cogPDSUser = await client.get_file([cogtask_me_ch['id'], item['id'], [p['id'] for p in timeline_properties if p['name'] == 'cogPDSUser'][0]])\n",
    "        else:\n",
    "            cogPDSUser = None\n",
    "        timeline_item_data.append((summary['content'].decode('utf8'), begin['content'].decode('utf8'),\n",
    "                                   cogPDSUser['content'].decode('utf8') if cogPDSUser is not None else None, json.loads(cogPDSJSON['content'])))\n",
    "\n",
    "df = pd.DataFrame(timeline_item_data, columns=['Summary', 'Time', 'User', 'Detail'])\n",
    "df"
   ]
  },
  {
   "cell_type": "markdown",
   "id": "ef44092d",
   "metadata": {},
   "source": [
    "このようにして、Personary上のデータをメモリに読み込むことができます。これらの内容を**暗号化等をかけていないファイル等に出力する際は十分に取り扱いに注意**してください。"
   ]
  },
  {
   "cell_type": "markdown",
   "id": "6645ec20",
   "metadata": {},
   "source": [
    "各データの `Detail` にはログが記録されています。"
   ]
  },
  {
   "cell_type": "code",
   "execution_count": null,
   "id": "80f4f4fa",
   "metadata": {},
   "outputs": [],
   "source": [
    "df['Detail'].values[-1]"
   ]
  },
  {
   "cell_type": "markdown",
   "id": "d5222377",
   "metadata": {},
   "source": [
    "# 分析例1: 動画再生時間(実時間)\n",
    "\n",
    "動画の再生時間（実時間）がどの程度なのか抽出してみます。"
   ]
  },
  {
   "cell_type": "markdown",
   "id": "98fea1a1",
   "metadata": {},
   "source": [
    "PLAYING - PAUSED または PLAYING - ENDEDの間のtimeの変化を集計します。"
   ]
  },
  {
   "cell_type": "code",
   "execution_count": null,
   "id": "2a340444",
   "metadata": {},
   "outputs": [],
   "source": [
    "# PC時計上での再生時間を計算する ... 結果はミリ秒で返す\n",
    "def compute_pc_time_duration(log):\n",
    "    playing = False # 状態の記憶用\n",
    "    start = None\n",
    "    duration = 0\n",
    "    for action in log['data']['history']:\n",
    "        if action['event']['type'] != 'StateChange':\n",
    "            # 再生状態変化のみに着目\n",
    "            continue\n",
    "        if not playing:\n",
    "            # チェック: 停止状態と思われる際に停止系イベントが来ることはない(はず) - 警告扱い\n",
    "            if action['event']['state'] == 'PAUSED' or action['event']['state'] == 'ENDED':\n",
    "                print('WARNING: Unexpected event', action)\n",
    "            if action['event']['state'] == 'PLAYING':\n",
    "                playing = True\n",
    "                start = action['time']\n",
    "        else:\n",
    "            # チェック: 再生状態と思われる際に再生イベントが来ることはない\n",
    "            if action['event']['state'] == 'PLAYING':\n",
    "                print('WARNING: Unexpected event', action)\n",
    "            if action['event']['state'] == 'BUFFERING' or action['event']['state'] == 'PAUSED' or action['event']['state'] == 'ENDED':\n",
    "                playing = False\n",
    "                # 再生開始時からの差分\n",
    "                duration += action['time'] - start\n",
    "                start = None\n",
    "    return duration\n",
    "\n",
    "compute_pc_time_duration(df['Detail'].values[-1])"
   ]
  },
  {
   "cell_type": "code",
   "execution_count": null,
   "id": "b06492d9",
   "metadata": {},
   "outputs": [],
   "source": [
    "# 動画上での再生時間を計算する ... 結果は秒で返す\n",
    "def compute_movie_time_duration(log):\n",
    "    playing = False # 状態の記憶用\n",
    "    start = None\n",
    "    duration = 0\n",
    "    for action in log['data']['history']:\n",
    "        if action['event']['type'] != 'StateChange':\n",
    "            # 再生状態変化のみに着目\n",
    "            continue\n",
    "        if not playing:\n",
    "            # チェック: 停止状態と思われる際に停止系イベントが来ることはない(はず) - 警告扱い\n",
    "            if action['event']['state'] == 'PAUSED' or action['event']['state'] == 'ENDED':\n",
    "                print('WARNING: Unexpected event', action)\n",
    "            if action['event']['state'] == 'PLAYING':\n",
    "                playing = True\n",
    "                start = action['state']['currentTime']\n",
    "        else:\n",
    "            # チェック: 再生状態と思われる際に再生イベントが来ることはない(はず)\n",
    "            if action['event']['state'] == 'PLAYING':\n",
    "                print('WARNING: Unexpected event', action)\n",
    "            if action['event']['state'] == 'BUFFERING' or action['event']['state'] == 'PAUSED' or action['event']['state'] == 'ENDED':\n",
    "                playing = False\n",
    "                # 再生開始時からの差分\n",
    "                duration += action['state']['currentTime'] - start\n",
    "                start = None\n",
    "    return duration\n",
    "\n",
    "compute_movie_time_duration(df['Detail'].values[-1])"
   ]
  },
  {
   "cell_type": "code",
   "execution_count": null,
   "id": "e7657316",
   "metadata": {},
   "outputs": [],
   "source": [
    "# 最大の再生速度を計算する\n",
    "def max_playback_rate(log):\n",
    "    return max([action['state']['playbackRate'] for action in log['data']['history']])\n",
    "\n",
    "max_playback_rate(df['Detail'].values[-1])"
   ]
  },
  {
   "cell_type": "code",
   "execution_count": null,
   "id": "663c9e29",
   "metadata": {
    "scrolled": true
   },
   "outputs": [],
   "source": [
    "df['PCDuration'] = [compute_pc_time_duration(detail) / 1000.0 for detail in df['Detail'].values]\n",
    "df['MovieDuration'] = [compute_movie_time_duration(detail) for detail in df['Detail'].values]\n",
    "df['PlaybackRate'] = [max_playback_rate(detail) for detail in df['Detail'].values]\n",
    "# ログの記録時間(PCの時計): 重複排除が必要かも...\n",
    "df['Recorded'] = [detail['meta']['recorded'] for detail in df['Detail'].values]\n",
    "df"
   ]
  },
  {
   "cell_type": "markdown",
   "id": "3c183910",
   "metadata": {},
   "source": [
    "動画視聴アプリでは、ログの取得漏れを減らすため、一時停止のたびにPLRへとログを送信しています。そのため、人ごとにデータを結合する必要があります。\n",
    "\n",
    "この例では、 `User` カラムにユーザ識別子を入れてあります。この値はcogtask.meによって振られるもので、タスク内での識別に利用できます。（セキュリティの観点で、PLRのデータだけでは、タスク間の名寄せはできないようにしています。）\n",
    "\n",
    "> 個人のデータはUser = Noneになります。"
   ]
  },
  {
   "cell_type": "code",
   "execution_count": null,
   "id": "a736e5c2",
   "metadata": {
    "scrolled": true
   },
   "outputs": [],
   "source": [
    "df.groupby('User').sum()"
   ]
  },
  {
   "cell_type": "markdown",
   "id": "260b2bcc",
   "metadata": {},
   "source": [
    "実視聴時間と動画内視聴時間の分布(単位は秒)... 実視聴時間に対して動画内視聴時間が長いということは、再生速度を上げている or 同じところを何度も繰り返してみている...  ことを示唆する。"
   ]
  },
  {
   "cell_type": "code",
   "execution_count": null,
   "id": "6aeedeeb",
   "metadata": {},
   "outputs": [],
   "source": [
    "df.groupby('User').sum().plot(kind='scatter', x='PCDuration', y='MovieDuration')"
   ]
  },
  {
   "cell_type": "markdown",
   "id": "efba6ac4",
   "metadata": {},
   "source": [
    "被験者ごとのPlayback Rate(の最大値)の頻度。2倍速で見ている人もそれなりに。"
   ]
  },
  {
   "cell_type": "code",
   "execution_count": null,
   "id": "9915c3f8",
   "metadata": {
    "scrolled": true
   },
   "outputs": [],
   "source": [
    "df[['User', 'PlaybackRate']].groupby('User').max().hist()"
   ]
  },
  {
   "cell_type": "code",
   "execution_count": null,
   "id": "13c0f2fc",
   "metadata": {},
   "outputs": [],
   "source": []
  }
 ],
 "metadata": {
  "kernelspec": {
   "display_name": "Python 3 (ipykernel)",
   "language": "python",
   "name": "python3"
  },
  "language_info": {
   "codemirror_mode": {
    "name": "ipython",
    "version": 3
   },
   "file_extension": ".py",
   "mimetype": "text/x-python",
   "name": "python",
   "nbconvert_exporter": "python",
   "pygments_lexer": "ipython3",
   "version": "3.12.10"
  }
 },
 "nbformat": 4,
 "nbformat_minor": 5
}
