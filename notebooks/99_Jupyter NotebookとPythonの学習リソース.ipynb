{
 "cells": [
  {
   "cell_type": "markdown",
   "id": "1e6ffe1b",
   "metadata": {},
   "source": [
    "# Jupyter NotebookとPythonの学習リソース\n",
    "\n",
    "本環境は [Jupyter Notebook](https://jupyter.org/) の形で構成されており、[Pythonスクリプト](https://www.python.jp/)を用いて記述しています。\n",
    "\n",
    "ライブラリは公式イメージ [jupyter/scipy-notebook](https://jupyter-docker-stacks.readthedocs.io/en/latest/using/selecting.html#jupyter-scipy-notebook) のものがインストールされています。\n",
    "\n",
    "講義ではプログラミング自体の説明はあまりしない予定です。サンプルを実行しながら、ご自分のデータを確認していただければと思いますが、興味のある方は以下のリソースを参考にしてください。"
   ]
  },
  {
   "cell_type": "markdown",
   "id": "95cf1235",
   "metadata": {},
   "source": [
    "# おすすめチュートリアル\n",
    "\n",
    "* [東京大学 数理・情報教育研究センター Pythonプログラミング入門](https://utokyo-ipp.github.io/index.html)\n",
    "\n",
    "↑**おすすめ** 一通り実施してもらえると、Pythonの書き方などつかんでもらえるかもしれません。"
   ]
  },
  {
   "cell_type": "markdown",
   "id": "73f6ba8f",
   "metadata": {},
   "source": [
    "# その他\n",
    "\n",
    "## Python\n",
    "\n",
    "* [Pythonチュートリアル(公式)](https://docs.python.org/ja/3/tutorial/)\n",
    "* [機械学習の Python との出会い](https://www.kamishima.net/mlmpyja/)\n",
    "* [Chainer Tutorial - 11. Pandas入門](https://tutorials.chainer.org/ja/11_Introduction_to_Pandas.html)\n",
    "\n",
    "## Jupyter Notebook\n",
    "\n",
    "* [How to Use Jupyter Notebook in 2020: A Beginner’s Tutorial](https://www.dataquest.io/blog/jupyter-notebook-tutorial/)"
   ]
  },
  {
   "cell_type": "code",
   "execution_count": null,
   "id": "105a8255",
   "metadata": {},
   "outputs": [],
   "source": []
  }
 ],
 "metadata": {
  "kernelspec": {
   "display_name": "Python 3",
   "language": "python",
   "name": "python3"
  },
  "language_info": {
   "codemirror_mode": {
    "name": "ipython",
    "version": 3
   },
   "file_extension": ".py",
   "mimetype": "text/x-python",
   "name": "python",
   "nbconvert_exporter": "python",
   "pygments_lexer": "ipython3",
   "version": "3.9.4"
  }
 },
 "nbformat": 4,
 "nbformat_minor": 5
}
